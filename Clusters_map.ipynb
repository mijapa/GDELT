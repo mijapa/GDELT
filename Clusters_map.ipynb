{
 "cells": [
  {
   "cell_type": "code",
   "execution_count": null,
   "metadata": {
    "pycharm": {
     "is_executing": true,
     "name": "#%%\n"
    }
   },
   "outputs": [],
   "source": [
    "from geoplot import geoplot\n",
    "from ipynb.fs.full.Clustering_Std_KMEANS import *\n",
    "import matplotlib.pyplot as plt"
   ]
  },
  {
   "cell_type": "code",
   "execution_count": null,
   "metadata": {
    "pycharm": {
     "name": "#%%\n"
    }
   },
   "outputs": [],
   "source": [
    "merged = globalAA.merge(cluster_map, left_on='iso_a3', right_on='data_index')\n",
    "merged_std = globalAA.merge(cluster_map_std, left_on='iso_a3', right_on='data_index')"
   ]
  },
  {
   "cell_type": "code",
   "execution_count": null,
   "metadata": {
    "pycharm": {
     "name": "#%%\n"
    }
   },
   "outputs": [],
   "source": [
    "def read_csv_strip(data):\n",
    "    df = pd.read_csv(data, header = 0,na_values='..', quotechar='\"')\n",
    "\n",
    "    # for each column\n",
    "    for col in df.columns:\n",
    "        # check if the columns contains string data\n",
    "        if pd.api.types.is_string_dtype(df[col]):\n",
    "            df[col] = df[col].str.strip()\n",
    "    df = df.replace({\"\":np.nan}) # if there remained only empty string \"\", change to Nan\n",
    "    return df"
   ]
  },
  {
   "cell_type": "code",
   "execution_count": null,
   "metadata": {
    "pycharm": {
     "name": "#%%\n"
    }
   },
   "outputs": [],
   "source": [
    "# merge gdp data\n",
    "external = read_csv_strip('external_data/GDP2015.csv')\n",
    "external = external[['Country Code', 'GDP']]\n",
    "merged_std = merged_std.merge(external, left_on='iso_a3', right_on='Country Code')\n",
    "\n",
    "# # merge health data\n",
    "external = read_csv_strip('external_data/health2015.csv')\n",
    "external = external[['Country Code', 'health']]\n",
    "merged_std = merged_std.merge(external, left_on='iso_a3', right_on='Country Code')\n",
    "\n",
    "# # merge military data\n",
    "external = read_csv_strip('external_data/military2015.csv')\n",
    "external = external[['Country Code', 'military']]\n",
    "merged_std = merged_std.merge(external, left_on='iso_a3', right_on='Country Code')\n",
    "# #merge education data\n",
    "external = read_csv_strip('external_data/education2015.csv')\n",
    "external = external[['Country Code', 'education']]\n",
    "merged_std = merged_std.merge(external, left_on='iso_a3', right_on='Country Code')\n",
    "# #merge import data\n",
    "external = read_csv_strip('external_data/import2015.csv')\n",
    "external = external[['Country Code', 'imp']]\n",
    "merged_std = merged_std.merge(external, left_on='iso_a3', right_on='Country Code')\n",
    "# #merge export data\n",
    "external = read_csv_strip('external_data/export2015.csv')\n",
    "external = external[['Country Code', 'exp']]\n",
    "merged_std = merged_std.merge(external, left_on='iso_a3', right_on='Country Code')\n",
    "\n"
   ]
  },
  {
   "cell_type": "code",
   "execution_count": null,
   "metadata": {
    "pycharm": {
     "name": "#%%\n"
    }
   },
   "outputs": [],
   "source": [
    "g = geoplot.choropleth(\n",
    "    merged, hue=merged.cluster, figsize=(8, 4), legend=True, cmap='jet',\n",
    "    legend_kwargs={'label': \"Cluster\"}\n",
    ")\n",
    "g.set_title(\"Countries in 10 clusters visualization\")\n",
    "g.figure.set_size_inches(20,8)\n",
    "plt.savefig('text/fig/CLUST/10clusterMap.png', transparent=True, bbox_inches='tight')"
   ]
  },
  {
   "cell_type": "code",
   "execution_count": null,
   "metadata": {
    "pycharm": {
     "is_executing": true,
     "name": "#%%\n"
    }
   },
   "outputs": [],
   "source": [
    "g = geoplot.choropleth(\n",
    "    merged_std, hue=merged_std.cluster, figsize=(8, 4), legend=True, cmap='jet',\n",
    "    legend_kwargs={'label': \"Cluster\"}\n",
    ")\n",
    "g.set_title(\"Countries in 10 clusters visualization (standardised data)\")\n",
    "g.figure.set_size_inches(20,8)\n",
    "plt.savefig('text/fig/CLUST/10clusterMap_std.png', transparent=True, bbox_inches='tight')"
   ]
  },
  {
   "cell_type": "code",
   "execution_count": null,
   "metadata": {
    "pycharm": {
     "name": "#%%\n"
    }
   },
   "outputs": [],
   "source": [
    "world = world[(world.pop_est>0) & (world.name!=\"Antarctica\")]\n",
    "\n",
    "g = geoplot.choropleth(\n",
    "    world, hue=np.log10(world.pop_est), figsize=(8, 4), legend=True, cmap='jet',\n",
    "    legend_kwargs={'label': \"Population logarithmic scale\"},\n",
    ")\n",
    "g.set_title(\"Countries population visualization\")\n",
    "g.figure.set_size_inches(20,8)"
   ]
  },
  {
   "cell_type": "code",
   "execution_count": null,
   "metadata": {
    "pycharm": {
     "name": "#%%\n"
    }
   },
   "outputs": [],
   "source": [
    "world['gdp_per_cap'] = world.gdp_md_est / world.pop_est\n",
    "\n",
    "g = geoplot.choropleth(\n",
    "    world, hue=np.log10(world.gdp_per_cap), figsize=(8, 4), legend=True, cmap='jet',\n",
    "    legend_kwargs={'label': \"Gross Domestic Product per capita logarithmic scale\"},\n",
    ")\n",
    "g.set_title(\"Countries GDP per capita visualization\")\n",
    "g.figure.set_size_inches(20,8)"
   ]
  },
  {
   "cell_type": "code",
   "execution_count": null,
   "metadata": {
    "pycharm": {
     "name": "#%%\n"
    }
   },
   "outputs": [],
   "source": [
    "g = geoplot.choropleth(\n",
    "    merged_std, hue=np.log10(merged_std.GDP), figsize=(8, 4), legend=True, cmap='jet',\n",
    "    legend_kwargs={'label': \"Gross Domestic Product logarithmic scale\"},\n",
    ")\n",
    "g.set_title(\"Countries GDP in US dollar visualization\")\n",
    "g.figure.set_size_inches(20,8)\n",
    "plt.savefig('text/fig/CLUST/gdp2015.png', transparent=True, bbox_inches='tight')"
   ]
  },
  {
   "cell_type": "code",
   "execution_count": null,
   "metadata": {
    "pycharm": {
     "name": "#%%\n"
    }
   },
   "outputs": [],
   "source": [
    "g = geoplot.choropleth(\n",
    "    merged_std, hue=np.log10(merged_std.health), figsize=(8, 4), legend=True, cmap='jet',\n",
    "    legend_kwargs={'label': \"Health expenses in GDP% logarithmic scale\"},\n",
    ")\n",
    "g.set_title(\"Countries health expenses in GDP% visualization\")\n",
    "g.figure.set_size_inches(20,8)\n",
    "plt.savefig('text/fig/CLUST/health2015.png', transparent=True, bbox_inches='tight')"
   ]
  },
  {
   "cell_type": "code",
   "execution_count": null,
   "metadata": {
    "pycharm": {
     "name": "#%%\n"
    }
   },
   "outputs": [],
   "source": [
    "g = geoplot.choropleth(\n",
    "    merged_std, hue=merged_std.military, figsize=(8, 4), legend=True, cmap='jet',\n",
    "    legend_kwargs={'label': \"Military expenses in GDP% logarithmic scale\"},\n",
    ")\n",
    "g.set_title(\"Countries military expenses in GDP% visualization\")\n",
    "g.figure.set_size_inches(20,8)\n",
    "plt.savefig('text/fig/CLUST/military2015.png', transparent=True, bbox_inches='tight')"
   ]
  },
  {
   "cell_type": "code",
   "execution_count": null,
   "metadata": {
    "pycharm": {
     "name": "#%%\n"
    }
   },
   "outputs": [],
   "source": [
    "g = geoplot.choropleth(\n",
    "    merged_std, hue=np.log10(merged_std.imp), figsize=(8, 4), legend=True, cmap='jet',\n",
    "    legend_kwargs={'label': \"Import in GDP% logarithmic scale\"},\n",
    ")\n",
    "g.set_title(\"Countries import in GDP% visualization\")\n",
    "g.figure.set_size_inches(20,8)\n",
    "plt.savefig('text/fig/CLUST/import2015.png', transparent=True, bbox_inches='tight')"
   ]
  },
  {
   "cell_type": "code",
   "execution_count": null,
   "metadata": {
    "pycharm": {
     "name": "#%%\n"
    }
   },
   "outputs": [],
   "source": [
    "g = geoplot.choropleth(\n",
    "    merged_std, hue=np.log10(merged_std.exp), figsize=(8, 4), legend=True, cmap='jet',\n",
    "    legend_kwargs={'label': \"Export in GDP% logarithmic scale\"},\n",
    ")\n",
    "g.set_title(\"Countries export in GDP% visualization\")\n",
    "g.figure.set_size_inches(20,8)\n",
    "plt.savefig('text/fig/CLUST/export2015.png', transparent=True, bbox_inches='tight')"
   ]
  }
 ],
 "metadata": {
  "kernelspec": {
   "display_name": "geo_env",
   "language": "python",
   "name": "geo_env"
  },
  "language_info": {
   "codemirror_mode": {
    "name": "ipython",
    "version": 3
   },
   "file_extension": ".py",
   "mimetype": "text/x-python",
   "name": "python",
   "nbconvert_exporter": "python",
   "pygments_lexer": "ipython3",
   "version": "3.7.6"
  }
 },
 "nbformat": 4,
 "nbformat_minor": 1
}
