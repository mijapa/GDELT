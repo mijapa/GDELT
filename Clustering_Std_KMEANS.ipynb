{
 "cells": [
  {
   "cell_type": "code",
   "execution_count": 1,
   "outputs": [],
   "source": [
    "import numpy as np\n",
    "import pandas as pd\n",
    "from datetime import datetime"
   ],
   "metadata": {
    "collapsed": false,
    "pycharm": {
     "name": "#%%\n"
    }
   }
  },
  {
   "cell_type": "code",
   "execution_count": 2,
   "outputs": [
    {
     "name": "stderr",
     "output_type": "stream",
     "text": [
      "/home/micha/anaconda3/envs/geo_env/lib/python3.7/site-packages/ipykernel_launcher.py:1: ParserWarning: Falling back to the 'python' engine because the 'c' engine does not support regex separators (separators > 1 char and different from '\\s+' are interpreted as regex); you can avoid this warning by specifying engine='python'.\n",
      "  \"\"\"Entry point for launching an IPython kernel.\n"
     ]
    }
   ],
   "source": [
    "globalAA = pd.read_csv('queries_results/clustering/A.csv', header = 0, sep=' *, *')\n",
    "# globalA[\"Time\"]=pd.to_datetime(globalA['MonthYear'], format='%Y%m').dt.strftime('%Y-%m')\n",
    "globalA = globalAA[['Events','sumNumMentions','materialConfCoop','verbalConfCoop','avgAvgTone','avgGoldstein','fightCount','expressCount']]"
   ],
   "metadata": {
    "collapsed": false,
    "pycharm": {
     "name": "#%%\n"
    }
   }
  },
  {
   "cell_type": "code",
   "execution_count": 3,
   "outputs": [
    {
     "data": {
      "text/plain": "array([[ 7.03800000e+03,  3.46670000e+04,  7.01903950e-02, ...,\n         1.47698210e+00,  1.40000000e+02,  7.70000000e+01],\n       [ 6.28210000e+04,  3.07088000e+05,  1.21376610e-01, ...,\n         1.24050875e+00,  3.45000000e+03,  1.13400000e+03],\n       [ 5.31000000e+02,  2.71000000e+03,  4.33145009e-02, ...,\n         2.16610169e+00,  1.00000000e+01,  1.00000000e+01],\n       ...,\n       [ 8.19808000e+05,  3.47227000e+06,  1.57140452e-01, ...,\n         3.70861958e-01,  5.77160000e+04,  1.97880000e+04],\n       [ 1.88650000e+04,  9.09150000e+04,  2.24118738e-01, ...,\n        -3.64373178e-01,  2.95600000e+03,  2.58000000e+02],\n       [ 2.61000000e+02,  1.42000000e+03,  5.36398467e-02, ...,\n         2.74904215e+00,  2.00000000e+00,  4.00000000e+00]])"
     },
     "execution_count": 3,
     "metadata": {},
     "output_type": "execute_result"
    }
   ],
   "source": [
    "points = globalA\n",
    "points = points.to_numpy()\n",
    "points"
   ],
   "metadata": {
    "collapsed": false,
    "pycharm": {
     "name": "#%%\n"
    }
   }
  },
  {
   "cell_type": "markdown",
   "source": [
    "### Data standardisation with [StandardScaler](http://scikit-learn.org/stable/modules/generated/sklearn.preprocessing.StandardScaler.html)"
   ],
   "metadata": {
    "collapsed": false
   }
  },
  {
   "cell_type": "code",
   "execution_count": 4,
   "outputs": [],
   "source": [
    "##jeśli dane są w jakiś sposób skorelowane to znaczy, że występuje redundancja danych, te dane nic nowego nie wnoszą\n",
    "##są niepotrzebne\n",
    "\n",
    "## if necessary to scale data\n",
    "from sklearn.preprocessing import StandardScaler\n",
    "scaler = StandardScaler()\n",
    "scaled_points = scaler.fit_transform(points)"
   ],
   "metadata": {
    "collapsed": false,
    "pycharm": {
     "name": "#%%\n"
    }
   }
  },
  {
   "cell_type": "markdown",
   "source": [
    "## Find clusters using [kMeans()](https://scikit-learn.org/stable/modules/generated/sklearn.cluster.KMeans.html)"
   ],
   "metadata": {
    "collapsed": false
   }
  },
  {
   "cell_type": "code",
   "execution_count": 5,
   "outputs": [],
   "source": [
    "#klasa KMeans z sklearn, konstruktor przyjmuje liczbę klastrów i sposób inicjalizacji centroidów, random_state=1 za\n",
    "#każdym razem te same punkty startowe\n",
    "from sklearn.cluster import KMeans\n",
    "kmeans = KMeans(n_clusters=10, init='random', random_state=1)\n",
    "km = kmeans.fit(scaled_points)"
   ],
   "metadata": {
    "collapsed": false,
    "pycharm": {
     "name": "#%%\n"
    }
   }
  },
  {
   "cell_type": "code",
   "execution_count": 6,
   "outputs": [
    {
     "data": {
      "text/plain": "array([5, 6, 7, 6, 6, 5, 0, 6, 1, 4, 4, 4, 5, 8, 8, 6, 0, 6, 5, 6, 1, 6,\n       0, 6, 4, 5, 6, 4, 6, 4, 6, 1, 5, 6, 0, 4, 3, 5, 0, 6, 4, 5, 0, 5,\n       4, 0, 5, 5, 6, 5, 0, 0, 0, 2, 8, 5, 6, 6, 5, 4, 2, 5, 6, 7, 4, 1,\n       6, 0, 6, 5, 2, 0, 4, 0, 4, 0, 6, 6, 0, 6, 4, 4, 6, 6, 0, 4, 7, 5,\n       6, 4, 6, 6, 1, 6, 5, 6, 6, 6, 6, 2, 0, 6, 0, 4, 0, 5, 4, 0, 5, 8,\n       6, 0, 6, 5, 6, 1, 5, 5, 0, 6, 5, 6, 1, 0, 5, 5, 1, 5, 4, 5, 4, 4,\n       2, 6, 4, 6, 6, 2, 5, 4, 5, 5, 6, 4, 4, 5, 7, 5, 6, 5, 1, 5, 1, 4,\n       6, 6, 5, 5, 4, 0, 1, 6, 6, 7, 6, 1, 5, 5, 5, 5, 6, 4, 6, 5, 6, 0,\n       5, 6, 0, 4, 6, 5, 5, 4, 7, 0, 1, 4, 7, 8, 2, 4, 8, 5, 4, 5, 0, 5,\n       6, 0, 0, 1, 5, 4, 1, 6, 1, 6, 6, 5, 7, 6, 6, 0, 4, 5, 9, 1, 4],\n      dtype=int32)"
     },
     "execution_count": 6,
     "metadata": {},
     "output_type": "execute_result"
    }
   ],
   "source": [
    "#funkcja predict zwaraca etykiety klastru do jakiego został przypisany obiekt\n",
    "clusters_id = kmeans.predict(scaled_points)\n",
    "clusters_id"
   ],
   "metadata": {
    "collapsed": false,
    "pycharm": {
     "name": "#%%\n"
    }
   }
  },
  {
   "cell_type": "code",
   "execution_count": 7,
   "outputs": [],
   "source": [
    "cluster_map = pd.DataFrame()\n",
    "cluster_map['data_index'] = globalAA['Actor1CountryCode']\n",
    "cluster_map['cluster'] = km.labels_"
   ],
   "metadata": {
    "collapsed": false,
    "pycharm": {
     "name": "#%%\n"
    }
   }
  },
  {
   "cell_type": "code",
   "execution_count": 8,
   "outputs": [
    {
     "data": {
      "text/plain": "    data_index  cluster\n0          DZA        5\n1          TUR        6\n2          SYC        7\n3          ZWE        6\n4          MWI        6\n..         ...      ...\n214        CRI        4\n215        GNB        5\n216        USA        9\n217        AFG        1\n218        VUT        4\n\n[219 rows x 2 columns]",
      "text/html": "<div>\n<style scoped>\n    .dataframe tbody tr th:only-of-type {\n        vertical-align: middle;\n    }\n\n    .dataframe tbody tr th {\n        vertical-align: top;\n    }\n\n    .dataframe thead th {\n        text-align: right;\n    }\n</style>\n<table border=\"1\" class=\"dataframe\">\n  <thead>\n    <tr style=\"text-align: right;\">\n      <th></th>\n      <th>data_index</th>\n      <th>cluster</th>\n    </tr>\n  </thead>\n  <tbody>\n    <tr>\n      <th>0</th>\n      <td>DZA</td>\n      <td>5</td>\n    </tr>\n    <tr>\n      <th>1</th>\n      <td>TUR</td>\n      <td>6</td>\n    </tr>\n    <tr>\n      <th>2</th>\n      <td>SYC</td>\n      <td>7</td>\n    </tr>\n    <tr>\n      <th>3</th>\n      <td>ZWE</td>\n      <td>6</td>\n    </tr>\n    <tr>\n      <th>4</th>\n      <td>MWI</td>\n      <td>6</td>\n    </tr>\n    <tr>\n      <th>...</th>\n      <td>...</td>\n      <td>...</td>\n    </tr>\n    <tr>\n      <th>214</th>\n      <td>CRI</td>\n      <td>4</td>\n    </tr>\n    <tr>\n      <th>215</th>\n      <td>GNB</td>\n      <td>5</td>\n    </tr>\n    <tr>\n      <th>216</th>\n      <td>USA</td>\n      <td>9</td>\n    </tr>\n    <tr>\n      <th>217</th>\n      <td>AFG</td>\n      <td>1</td>\n    </tr>\n    <tr>\n      <th>218</th>\n      <td>VUT</td>\n      <td>4</td>\n    </tr>\n  </tbody>\n</table>\n<p>219 rows × 2 columns</p>\n</div>"
     },
     "execution_count": 8,
     "metadata": {},
     "output_type": "execute_result"
    }
   ],
   "source": [
    "cluster_map\n"
   ],
   "metadata": {
    "collapsed": false,
    "pycharm": {
     "name": "#%%\n"
    }
   }
  },
  {
   "cell_type": "code",
   "execution_count": 9,
   "outputs": [
    {
     "data": {
      "text/plain": "    data_index  cluster\n1          TUR        6\n3          ZWE        6\n4          MWI        6\n7          MCO        6\n15         RUS        6\n17         BDI        6\n19         JPN        6\n21         NLD        6\n23         CAN        6\n26         ALB        6\n28         LBR        6\n30         AFR        6\n33         ISR        6\n39         PRK        6\n48         MMR        6\n56         MDA        6\n57         MHL        6\n62         FRA        6\n66         MOZ        6\n68         GAB        6\n76         COL        6\n77         CYP        6\n79         MEX        6\n82         SWZ        6\n83         PAK        6\n88         BWA        6\n90         AUS        6\n91         SAU        6\n93         VEN        6\n95         LBY        6\n96         BGR        6\n97         GTM        6\n98         CUB        6\n101        MYS        6\n110        IRL        6\n112        NIC        6\n114        NGA        6\n119        DEU        6\n121        PER        6\n133        CPV        6\n135        DMA        6\n136        HUN        6\n142        MLT        6\n148        HTI        6\n154        GBR        6\n155        AGO        6\n161        GUY        6\n162        CZE        6\n164        ZAF        6\n170        POL        6\n172        BOL        6\n174        SWE        6\n177        LTU        6\n180        CHL        6\n198        PAN        6\n205        AUT        6\n207        ARM        6\n208        JOR        6\n211        TTO        6\n212        UGA        6",
      "text/html": "<div>\n<style scoped>\n    .dataframe tbody tr th:only-of-type {\n        vertical-align: middle;\n    }\n\n    .dataframe tbody tr th {\n        vertical-align: top;\n    }\n\n    .dataframe thead th {\n        text-align: right;\n    }\n</style>\n<table border=\"1\" class=\"dataframe\">\n  <thead>\n    <tr style=\"text-align: right;\">\n      <th></th>\n      <th>data_index</th>\n      <th>cluster</th>\n    </tr>\n  </thead>\n  <tbody>\n    <tr>\n      <th>1</th>\n      <td>TUR</td>\n      <td>6</td>\n    </tr>\n    <tr>\n      <th>3</th>\n      <td>ZWE</td>\n      <td>6</td>\n    </tr>\n    <tr>\n      <th>4</th>\n      <td>MWI</td>\n      <td>6</td>\n    </tr>\n    <tr>\n      <th>7</th>\n      <td>MCO</td>\n      <td>6</td>\n    </tr>\n    <tr>\n      <th>15</th>\n      <td>RUS</td>\n      <td>6</td>\n    </tr>\n    <tr>\n      <th>17</th>\n      <td>BDI</td>\n      <td>6</td>\n    </tr>\n    <tr>\n      <th>19</th>\n      <td>JPN</td>\n      <td>6</td>\n    </tr>\n    <tr>\n      <th>21</th>\n      <td>NLD</td>\n      <td>6</td>\n    </tr>\n    <tr>\n      <th>23</th>\n      <td>CAN</td>\n      <td>6</td>\n    </tr>\n    <tr>\n      <th>26</th>\n      <td>ALB</td>\n      <td>6</td>\n    </tr>\n    <tr>\n      <th>28</th>\n      <td>LBR</td>\n      <td>6</td>\n    </tr>\n    <tr>\n      <th>30</th>\n      <td>AFR</td>\n      <td>6</td>\n    </tr>\n    <tr>\n      <th>33</th>\n      <td>ISR</td>\n      <td>6</td>\n    </tr>\n    <tr>\n      <th>39</th>\n      <td>PRK</td>\n      <td>6</td>\n    </tr>\n    <tr>\n      <th>48</th>\n      <td>MMR</td>\n      <td>6</td>\n    </tr>\n    <tr>\n      <th>56</th>\n      <td>MDA</td>\n      <td>6</td>\n    </tr>\n    <tr>\n      <th>57</th>\n      <td>MHL</td>\n      <td>6</td>\n    </tr>\n    <tr>\n      <th>62</th>\n      <td>FRA</td>\n      <td>6</td>\n    </tr>\n    <tr>\n      <th>66</th>\n      <td>MOZ</td>\n      <td>6</td>\n    </tr>\n    <tr>\n      <th>68</th>\n      <td>GAB</td>\n      <td>6</td>\n    </tr>\n    <tr>\n      <th>76</th>\n      <td>COL</td>\n      <td>6</td>\n    </tr>\n    <tr>\n      <th>77</th>\n      <td>CYP</td>\n      <td>6</td>\n    </tr>\n    <tr>\n      <th>79</th>\n      <td>MEX</td>\n      <td>6</td>\n    </tr>\n    <tr>\n      <th>82</th>\n      <td>SWZ</td>\n      <td>6</td>\n    </tr>\n    <tr>\n      <th>83</th>\n      <td>PAK</td>\n      <td>6</td>\n    </tr>\n    <tr>\n      <th>88</th>\n      <td>BWA</td>\n      <td>6</td>\n    </tr>\n    <tr>\n      <th>90</th>\n      <td>AUS</td>\n      <td>6</td>\n    </tr>\n    <tr>\n      <th>91</th>\n      <td>SAU</td>\n      <td>6</td>\n    </tr>\n    <tr>\n      <th>93</th>\n      <td>VEN</td>\n      <td>6</td>\n    </tr>\n    <tr>\n      <th>95</th>\n      <td>LBY</td>\n      <td>6</td>\n    </tr>\n    <tr>\n      <th>96</th>\n      <td>BGR</td>\n      <td>6</td>\n    </tr>\n    <tr>\n      <th>97</th>\n      <td>GTM</td>\n      <td>6</td>\n    </tr>\n    <tr>\n      <th>98</th>\n      <td>CUB</td>\n      <td>6</td>\n    </tr>\n    <tr>\n      <th>101</th>\n      <td>MYS</td>\n      <td>6</td>\n    </tr>\n    <tr>\n      <th>110</th>\n      <td>IRL</td>\n      <td>6</td>\n    </tr>\n    <tr>\n      <th>112</th>\n      <td>NIC</td>\n      <td>6</td>\n    </tr>\n    <tr>\n      <th>114</th>\n      <td>NGA</td>\n      <td>6</td>\n    </tr>\n    <tr>\n      <th>119</th>\n      <td>DEU</td>\n      <td>6</td>\n    </tr>\n    <tr>\n      <th>121</th>\n      <td>PER</td>\n      <td>6</td>\n    </tr>\n    <tr>\n      <th>133</th>\n      <td>CPV</td>\n      <td>6</td>\n    </tr>\n    <tr>\n      <th>135</th>\n      <td>DMA</td>\n      <td>6</td>\n    </tr>\n    <tr>\n      <th>136</th>\n      <td>HUN</td>\n      <td>6</td>\n    </tr>\n    <tr>\n      <th>142</th>\n      <td>MLT</td>\n      <td>6</td>\n    </tr>\n    <tr>\n      <th>148</th>\n      <td>HTI</td>\n      <td>6</td>\n    </tr>\n    <tr>\n      <th>154</th>\n      <td>GBR</td>\n      <td>6</td>\n    </tr>\n    <tr>\n      <th>155</th>\n      <td>AGO</td>\n      <td>6</td>\n    </tr>\n    <tr>\n      <th>161</th>\n      <td>GUY</td>\n      <td>6</td>\n    </tr>\n    <tr>\n      <th>162</th>\n      <td>CZE</td>\n      <td>6</td>\n    </tr>\n    <tr>\n      <th>164</th>\n      <td>ZAF</td>\n      <td>6</td>\n    </tr>\n    <tr>\n      <th>170</th>\n      <td>POL</td>\n      <td>6</td>\n    </tr>\n    <tr>\n      <th>172</th>\n      <td>BOL</td>\n      <td>6</td>\n    </tr>\n    <tr>\n      <th>174</th>\n      <td>SWE</td>\n      <td>6</td>\n    </tr>\n    <tr>\n      <th>177</th>\n      <td>LTU</td>\n      <td>6</td>\n    </tr>\n    <tr>\n      <th>180</th>\n      <td>CHL</td>\n      <td>6</td>\n    </tr>\n    <tr>\n      <th>198</th>\n      <td>PAN</td>\n      <td>6</td>\n    </tr>\n    <tr>\n      <th>205</th>\n      <td>AUT</td>\n      <td>6</td>\n    </tr>\n    <tr>\n      <th>207</th>\n      <td>ARM</td>\n      <td>6</td>\n    </tr>\n    <tr>\n      <th>208</th>\n      <td>JOR</td>\n      <td>6</td>\n    </tr>\n    <tr>\n      <th>211</th>\n      <td>TTO</td>\n      <td>6</td>\n    </tr>\n    <tr>\n      <th>212</th>\n      <td>UGA</td>\n      <td>6</td>\n    </tr>\n  </tbody>\n</table>\n</div>"
     },
     "execution_count": 9,
     "metadata": {},
     "output_type": "execute_result"
    }
   ],
   "source": [
    "POL = cluster_map[cluster_map.data_index=='POL'].cluster.iloc[0]\n",
    "cluster_map[cluster_map.cluster==POL]"
   ],
   "metadata": {
    "collapsed": false,
    "pycharm": {
     "name": "#%%\n"
    }
   }
  },
  {
   "cell_type": "code",
   "execution_count": 10,
   "outputs": [
    {
     "data": {
      "text/plain": "    data_index  cluster\n216        USA        9",
      "text/html": "<div>\n<style scoped>\n    .dataframe tbody tr th:only-of-type {\n        vertical-align: middle;\n    }\n\n    .dataframe tbody tr th {\n        vertical-align: top;\n    }\n\n    .dataframe thead th {\n        text-align: right;\n    }\n</style>\n<table border=\"1\" class=\"dataframe\">\n  <thead>\n    <tr style=\"text-align: right;\">\n      <th></th>\n      <th>data_index</th>\n      <th>cluster</th>\n    </tr>\n  </thead>\n  <tbody>\n    <tr>\n      <th>216</th>\n      <td>USA</td>\n      <td>9</td>\n    </tr>\n  </tbody>\n</table>\n</div>"
     },
     "execution_count": 10,
     "metadata": {},
     "output_type": "execute_result"
    }
   ],
   "source": [
    "USA = cluster_map[cluster_map.data_index=='USA'].cluster.iloc[0]\n",
    "cluster_map[cluster_map.cluster==USA]"
   ],
   "metadata": {
    "collapsed": false,
    "pycharm": {
     "name": "#%%\n"
    }
   }
  },
  {
   "cell_type": "code",
   "execution_count": 11,
   "outputs": [
    {
     "data": {
      "text/plain": "    data_index  cluster\n1          TUR        6\n3          ZWE        6\n4          MWI        6\n7          MCO        6\n15         RUS        6\n17         BDI        6\n19         JPN        6\n21         NLD        6\n23         CAN        6\n26         ALB        6\n28         LBR        6\n30         AFR        6\n33         ISR        6\n39         PRK        6\n48         MMR        6\n56         MDA        6\n57         MHL        6\n62         FRA        6\n66         MOZ        6\n68         GAB        6\n76         COL        6\n77         CYP        6\n79         MEX        6\n82         SWZ        6\n83         PAK        6\n88         BWA        6\n90         AUS        6\n91         SAU        6\n93         VEN        6\n95         LBY        6\n96         BGR        6\n97         GTM        6\n98         CUB        6\n101        MYS        6\n110        IRL        6\n112        NIC        6\n114        NGA        6\n119        DEU        6\n121        PER        6\n133        CPV        6\n135        DMA        6\n136        HUN        6\n142        MLT        6\n148        HTI        6\n154        GBR        6\n155        AGO        6\n161        GUY        6\n162        CZE        6\n164        ZAF        6\n170        POL        6\n172        BOL        6\n174        SWE        6\n177        LTU        6\n180        CHL        6\n198        PAN        6\n205        AUT        6\n207        ARM        6\n208        JOR        6\n211        TTO        6\n212        UGA        6",
      "text/html": "<div>\n<style scoped>\n    .dataframe tbody tr th:only-of-type {\n        vertical-align: middle;\n    }\n\n    .dataframe tbody tr th {\n        vertical-align: top;\n    }\n\n    .dataframe thead th {\n        text-align: right;\n    }\n</style>\n<table border=\"1\" class=\"dataframe\">\n  <thead>\n    <tr style=\"text-align: right;\">\n      <th></th>\n      <th>data_index</th>\n      <th>cluster</th>\n    </tr>\n  </thead>\n  <tbody>\n    <tr>\n      <th>1</th>\n      <td>TUR</td>\n      <td>6</td>\n    </tr>\n    <tr>\n      <th>3</th>\n      <td>ZWE</td>\n      <td>6</td>\n    </tr>\n    <tr>\n      <th>4</th>\n      <td>MWI</td>\n      <td>6</td>\n    </tr>\n    <tr>\n      <th>7</th>\n      <td>MCO</td>\n      <td>6</td>\n    </tr>\n    <tr>\n      <th>15</th>\n      <td>RUS</td>\n      <td>6</td>\n    </tr>\n    <tr>\n      <th>17</th>\n      <td>BDI</td>\n      <td>6</td>\n    </tr>\n    <tr>\n      <th>19</th>\n      <td>JPN</td>\n      <td>6</td>\n    </tr>\n    <tr>\n      <th>21</th>\n      <td>NLD</td>\n      <td>6</td>\n    </tr>\n    <tr>\n      <th>23</th>\n      <td>CAN</td>\n      <td>6</td>\n    </tr>\n    <tr>\n      <th>26</th>\n      <td>ALB</td>\n      <td>6</td>\n    </tr>\n    <tr>\n      <th>28</th>\n      <td>LBR</td>\n      <td>6</td>\n    </tr>\n    <tr>\n      <th>30</th>\n      <td>AFR</td>\n      <td>6</td>\n    </tr>\n    <tr>\n      <th>33</th>\n      <td>ISR</td>\n      <td>6</td>\n    </tr>\n    <tr>\n      <th>39</th>\n      <td>PRK</td>\n      <td>6</td>\n    </tr>\n    <tr>\n      <th>48</th>\n      <td>MMR</td>\n      <td>6</td>\n    </tr>\n    <tr>\n      <th>56</th>\n      <td>MDA</td>\n      <td>6</td>\n    </tr>\n    <tr>\n      <th>57</th>\n      <td>MHL</td>\n      <td>6</td>\n    </tr>\n    <tr>\n      <th>62</th>\n      <td>FRA</td>\n      <td>6</td>\n    </tr>\n    <tr>\n      <th>66</th>\n      <td>MOZ</td>\n      <td>6</td>\n    </tr>\n    <tr>\n      <th>68</th>\n      <td>GAB</td>\n      <td>6</td>\n    </tr>\n    <tr>\n      <th>76</th>\n      <td>COL</td>\n      <td>6</td>\n    </tr>\n    <tr>\n      <th>77</th>\n      <td>CYP</td>\n      <td>6</td>\n    </tr>\n    <tr>\n      <th>79</th>\n      <td>MEX</td>\n      <td>6</td>\n    </tr>\n    <tr>\n      <th>82</th>\n      <td>SWZ</td>\n      <td>6</td>\n    </tr>\n    <tr>\n      <th>83</th>\n      <td>PAK</td>\n      <td>6</td>\n    </tr>\n    <tr>\n      <th>88</th>\n      <td>BWA</td>\n      <td>6</td>\n    </tr>\n    <tr>\n      <th>90</th>\n      <td>AUS</td>\n      <td>6</td>\n    </tr>\n    <tr>\n      <th>91</th>\n      <td>SAU</td>\n      <td>6</td>\n    </tr>\n    <tr>\n      <th>93</th>\n      <td>VEN</td>\n      <td>6</td>\n    </tr>\n    <tr>\n      <th>95</th>\n      <td>LBY</td>\n      <td>6</td>\n    </tr>\n    <tr>\n      <th>96</th>\n      <td>BGR</td>\n      <td>6</td>\n    </tr>\n    <tr>\n      <th>97</th>\n      <td>GTM</td>\n      <td>6</td>\n    </tr>\n    <tr>\n      <th>98</th>\n      <td>CUB</td>\n      <td>6</td>\n    </tr>\n    <tr>\n      <th>101</th>\n      <td>MYS</td>\n      <td>6</td>\n    </tr>\n    <tr>\n      <th>110</th>\n      <td>IRL</td>\n      <td>6</td>\n    </tr>\n    <tr>\n      <th>112</th>\n      <td>NIC</td>\n      <td>6</td>\n    </tr>\n    <tr>\n      <th>114</th>\n      <td>NGA</td>\n      <td>6</td>\n    </tr>\n    <tr>\n      <th>119</th>\n      <td>DEU</td>\n      <td>6</td>\n    </tr>\n    <tr>\n      <th>121</th>\n      <td>PER</td>\n      <td>6</td>\n    </tr>\n    <tr>\n      <th>133</th>\n      <td>CPV</td>\n      <td>6</td>\n    </tr>\n    <tr>\n      <th>135</th>\n      <td>DMA</td>\n      <td>6</td>\n    </tr>\n    <tr>\n      <th>136</th>\n      <td>HUN</td>\n      <td>6</td>\n    </tr>\n    <tr>\n      <th>142</th>\n      <td>MLT</td>\n      <td>6</td>\n    </tr>\n    <tr>\n      <th>148</th>\n      <td>HTI</td>\n      <td>6</td>\n    </tr>\n    <tr>\n      <th>154</th>\n      <td>GBR</td>\n      <td>6</td>\n    </tr>\n    <tr>\n      <th>155</th>\n      <td>AGO</td>\n      <td>6</td>\n    </tr>\n    <tr>\n      <th>161</th>\n      <td>GUY</td>\n      <td>6</td>\n    </tr>\n    <tr>\n      <th>162</th>\n      <td>CZE</td>\n      <td>6</td>\n    </tr>\n    <tr>\n      <th>164</th>\n      <td>ZAF</td>\n      <td>6</td>\n    </tr>\n    <tr>\n      <th>170</th>\n      <td>POL</td>\n      <td>6</td>\n    </tr>\n    <tr>\n      <th>172</th>\n      <td>BOL</td>\n      <td>6</td>\n    </tr>\n    <tr>\n      <th>174</th>\n      <td>SWE</td>\n      <td>6</td>\n    </tr>\n    <tr>\n      <th>177</th>\n      <td>LTU</td>\n      <td>6</td>\n    </tr>\n    <tr>\n      <th>180</th>\n      <td>CHL</td>\n      <td>6</td>\n    </tr>\n    <tr>\n      <th>198</th>\n      <td>PAN</td>\n      <td>6</td>\n    </tr>\n    <tr>\n      <th>205</th>\n      <td>AUT</td>\n      <td>6</td>\n    </tr>\n    <tr>\n      <th>207</th>\n      <td>ARM</td>\n      <td>6</td>\n    </tr>\n    <tr>\n      <th>208</th>\n      <td>JOR</td>\n      <td>6</td>\n    </tr>\n    <tr>\n      <th>211</th>\n      <td>TTO</td>\n      <td>6</td>\n    </tr>\n    <tr>\n      <th>212</th>\n      <td>UGA</td>\n      <td>6</td>\n    </tr>\n  </tbody>\n</table>\n</div>"
     },
     "execution_count": 11,
     "metadata": {},
     "output_type": "execute_result"
    }
   ],
   "source": [
    "DEU = cluster_map[cluster_map.data_index=='DEU'].cluster.iloc[0]\n",
    "cluster_map[cluster_map.cluster==DEU]"
   ],
   "metadata": {
    "collapsed": false,
    "pycharm": {
     "name": "#%%\n"
    }
   }
  },
  {
   "cell_type": "code",
   "execution_count": 12,
   "outputs": [
    {
     "data": {
      "text/plain": "    data_index  cluster\n1          TUR        6\n3          ZWE        6\n4          MWI        6\n7          MCO        6\n15         RUS        6\n17         BDI        6\n19         JPN        6\n21         NLD        6\n23         CAN        6\n26         ALB        6\n28         LBR        6\n30         AFR        6\n33         ISR        6\n39         PRK        6\n48         MMR        6\n56         MDA        6\n57         MHL        6\n62         FRA        6\n66         MOZ        6\n68         GAB        6\n76         COL        6\n77         CYP        6\n79         MEX        6\n82         SWZ        6\n83         PAK        6\n88         BWA        6\n90         AUS        6\n91         SAU        6\n93         VEN        6\n95         LBY        6\n96         BGR        6\n97         GTM        6\n98         CUB        6\n101        MYS        6\n110        IRL        6\n112        NIC        6\n114        NGA        6\n119        DEU        6\n121        PER        6\n133        CPV        6\n135        DMA        6\n136        HUN        6\n142        MLT        6\n148        HTI        6\n154        GBR        6\n155        AGO        6\n161        GUY        6\n162        CZE        6\n164        ZAF        6\n170        POL        6\n172        BOL        6\n174        SWE        6\n177        LTU        6\n180        CHL        6\n198        PAN        6\n205        AUT        6\n207        ARM        6\n208        JOR        6\n211        TTO        6\n212        UGA        6",
      "text/html": "<div>\n<style scoped>\n    .dataframe tbody tr th:only-of-type {\n        vertical-align: middle;\n    }\n\n    .dataframe tbody tr th {\n        vertical-align: top;\n    }\n\n    .dataframe thead th {\n        text-align: right;\n    }\n</style>\n<table border=\"1\" class=\"dataframe\">\n  <thead>\n    <tr style=\"text-align: right;\">\n      <th></th>\n      <th>data_index</th>\n      <th>cluster</th>\n    </tr>\n  </thead>\n  <tbody>\n    <tr>\n      <th>1</th>\n      <td>TUR</td>\n      <td>6</td>\n    </tr>\n    <tr>\n      <th>3</th>\n      <td>ZWE</td>\n      <td>6</td>\n    </tr>\n    <tr>\n      <th>4</th>\n      <td>MWI</td>\n      <td>6</td>\n    </tr>\n    <tr>\n      <th>7</th>\n      <td>MCO</td>\n      <td>6</td>\n    </tr>\n    <tr>\n      <th>15</th>\n      <td>RUS</td>\n      <td>6</td>\n    </tr>\n    <tr>\n      <th>17</th>\n      <td>BDI</td>\n      <td>6</td>\n    </tr>\n    <tr>\n      <th>19</th>\n      <td>JPN</td>\n      <td>6</td>\n    </tr>\n    <tr>\n      <th>21</th>\n      <td>NLD</td>\n      <td>6</td>\n    </tr>\n    <tr>\n      <th>23</th>\n      <td>CAN</td>\n      <td>6</td>\n    </tr>\n    <tr>\n      <th>26</th>\n      <td>ALB</td>\n      <td>6</td>\n    </tr>\n    <tr>\n      <th>28</th>\n      <td>LBR</td>\n      <td>6</td>\n    </tr>\n    <tr>\n      <th>30</th>\n      <td>AFR</td>\n      <td>6</td>\n    </tr>\n    <tr>\n      <th>33</th>\n      <td>ISR</td>\n      <td>6</td>\n    </tr>\n    <tr>\n      <th>39</th>\n      <td>PRK</td>\n      <td>6</td>\n    </tr>\n    <tr>\n      <th>48</th>\n      <td>MMR</td>\n      <td>6</td>\n    </tr>\n    <tr>\n      <th>56</th>\n      <td>MDA</td>\n      <td>6</td>\n    </tr>\n    <tr>\n      <th>57</th>\n      <td>MHL</td>\n      <td>6</td>\n    </tr>\n    <tr>\n      <th>62</th>\n      <td>FRA</td>\n      <td>6</td>\n    </tr>\n    <tr>\n      <th>66</th>\n      <td>MOZ</td>\n      <td>6</td>\n    </tr>\n    <tr>\n      <th>68</th>\n      <td>GAB</td>\n      <td>6</td>\n    </tr>\n    <tr>\n      <th>76</th>\n      <td>COL</td>\n      <td>6</td>\n    </tr>\n    <tr>\n      <th>77</th>\n      <td>CYP</td>\n      <td>6</td>\n    </tr>\n    <tr>\n      <th>79</th>\n      <td>MEX</td>\n      <td>6</td>\n    </tr>\n    <tr>\n      <th>82</th>\n      <td>SWZ</td>\n      <td>6</td>\n    </tr>\n    <tr>\n      <th>83</th>\n      <td>PAK</td>\n      <td>6</td>\n    </tr>\n    <tr>\n      <th>88</th>\n      <td>BWA</td>\n      <td>6</td>\n    </tr>\n    <tr>\n      <th>90</th>\n      <td>AUS</td>\n      <td>6</td>\n    </tr>\n    <tr>\n      <th>91</th>\n      <td>SAU</td>\n      <td>6</td>\n    </tr>\n    <tr>\n      <th>93</th>\n      <td>VEN</td>\n      <td>6</td>\n    </tr>\n    <tr>\n      <th>95</th>\n      <td>LBY</td>\n      <td>6</td>\n    </tr>\n    <tr>\n      <th>96</th>\n      <td>BGR</td>\n      <td>6</td>\n    </tr>\n    <tr>\n      <th>97</th>\n      <td>GTM</td>\n      <td>6</td>\n    </tr>\n    <tr>\n      <th>98</th>\n      <td>CUB</td>\n      <td>6</td>\n    </tr>\n    <tr>\n      <th>101</th>\n      <td>MYS</td>\n      <td>6</td>\n    </tr>\n    <tr>\n      <th>110</th>\n      <td>IRL</td>\n      <td>6</td>\n    </tr>\n    <tr>\n      <th>112</th>\n      <td>NIC</td>\n      <td>6</td>\n    </tr>\n    <tr>\n      <th>114</th>\n      <td>NGA</td>\n      <td>6</td>\n    </tr>\n    <tr>\n      <th>119</th>\n      <td>DEU</td>\n      <td>6</td>\n    </tr>\n    <tr>\n      <th>121</th>\n      <td>PER</td>\n      <td>6</td>\n    </tr>\n    <tr>\n      <th>133</th>\n      <td>CPV</td>\n      <td>6</td>\n    </tr>\n    <tr>\n      <th>135</th>\n      <td>DMA</td>\n      <td>6</td>\n    </tr>\n    <tr>\n      <th>136</th>\n      <td>HUN</td>\n      <td>6</td>\n    </tr>\n    <tr>\n      <th>142</th>\n      <td>MLT</td>\n      <td>6</td>\n    </tr>\n    <tr>\n      <th>148</th>\n      <td>HTI</td>\n      <td>6</td>\n    </tr>\n    <tr>\n      <th>154</th>\n      <td>GBR</td>\n      <td>6</td>\n    </tr>\n    <tr>\n      <th>155</th>\n      <td>AGO</td>\n      <td>6</td>\n    </tr>\n    <tr>\n      <th>161</th>\n      <td>GUY</td>\n      <td>6</td>\n    </tr>\n    <tr>\n      <th>162</th>\n      <td>CZE</td>\n      <td>6</td>\n    </tr>\n    <tr>\n      <th>164</th>\n      <td>ZAF</td>\n      <td>6</td>\n    </tr>\n    <tr>\n      <th>170</th>\n      <td>POL</td>\n      <td>6</td>\n    </tr>\n    <tr>\n      <th>172</th>\n      <td>BOL</td>\n      <td>6</td>\n    </tr>\n    <tr>\n      <th>174</th>\n      <td>SWE</td>\n      <td>6</td>\n    </tr>\n    <tr>\n      <th>177</th>\n      <td>LTU</td>\n      <td>6</td>\n    </tr>\n    <tr>\n      <th>180</th>\n      <td>CHL</td>\n      <td>6</td>\n    </tr>\n    <tr>\n      <th>198</th>\n      <td>PAN</td>\n      <td>6</td>\n    </tr>\n    <tr>\n      <th>205</th>\n      <td>AUT</td>\n      <td>6</td>\n    </tr>\n    <tr>\n      <th>207</th>\n      <td>ARM</td>\n      <td>6</td>\n    </tr>\n    <tr>\n      <th>208</th>\n      <td>JOR</td>\n      <td>6</td>\n    </tr>\n    <tr>\n      <th>211</th>\n      <td>TTO</td>\n      <td>6</td>\n    </tr>\n    <tr>\n      <th>212</th>\n      <td>UGA</td>\n      <td>6</td>\n    </tr>\n  </tbody>\n</table>\n</div>"
     },
     "execution_count": 12,
     "metadata": {},
     "output_type": "execute_result"
    }
   ],
   "source": [
    "RUS = cluster_map[cluster_map.data_index=='RUS'].cluster.iloc[0]\n",
    "cluster_map[cluster_map.cluster==RUS]"
   ],
   "metadata": {
    "collapsed": false,
    "pycharm": {
     "name": "#%%\n"
    }
   }
  },
  {
   "cell_type": "code",
   "execution_count": 13,
   "outputs": [
    {
     "data": {
      "text/plain": "    data_index  cluster\n8          SLV        1\n20         PHL        1\n31         CMR        1\n65         TJK        1\n92         MLI        1\n115        NER        1\n122        BGD        1\n126        LBN        1\n150        SVK        1\n152        MDV        1\n160        KEN        1\n165        COD        1\n186        TCD        1\n201        CAF        1\n204        UKR        1\n206        LSO        1\n217        AFG        1",
      "text/html": "<div>\n<style scoped>\n    .dataframe tbody tr th:only-of-type {\n        vertical-align: middle;\n    }\n\n    .dataframe tbody tr th {\n        vertical-align: top;\n    }\n\n    .dataframe thead th {\n        text-align: right;\n    }\n</style>\n<table border=\"1\" class=\"dataframe\">\n  <thead>\n    <tr style=\"text-align: right;\">\n      <th></th>\n      <th>data_index</th>\n      <th>cluster</th>\n    </tr>\n  </thead>\n  <tbody>\n    <tr>\n      <th>8</th>\n      <td>SLV</td>\n      <td>1</td>\n    </tr>\n    <tr>\n      <th>20</th>\n      <td>PHL</td>\n      <td>1</td>\n    </tr>\n    <tr>\n      <th>31</th>\n      <td>CMR</td>\n      <td>1</td>\n    </tr>\n    <tr>\n      <th>65</th>\n      <td>TJK</td>\n      <td>1</td>\n    </tr>\n    <tr>\n      <th>92</th>\n      <td>MLI</td>\n      <td>1</td>\n    </tr>\n    <tr>\n      <th>115</th>\n      <td>NER</td>\n      <td>1</td>\n    </tr>\n    <tr>\n      <th>122</th>\n      <td>BGD</td>\n      <td>1</td>\n    </tr>\n    <tr>\n      <th>126</th>\n      <td>LBN</td>\n      <td>1</td>\n    </tr>\n    <tr>\n      <th>150</th>\n      <td>SVK</td>\n      <td>1</td>\n    </tr>\n    <tr>\n      <th>152</th>\n      <td>MDV</td>\n      <td>1</td>\n    </tr>\n    <tr>\n      <th>160</th>\n      <td>KEN</td>\n      <td>1</td>\n    </tr>\n    <tr>\n      <th>165</th>\n      <td>COD</td>\n      <td>1</td>\n    </tr>\n    <tr>\n      <th>186</th>\n      <td>TCD</td>\n      <td>1</td>\n    </tr>\n    <tr>\n      <th>201</th>\n      <td>CAF</td>\n      <td>1</td>\n    </tr>\n    <tr>\n      <th>204</th>\n      <td>UKR</td>\n      <td>1</td>\n    </tr>\n    <tr>\n      <th>206</th>\n      <td>LSO</td>\n      <td>1</td>\n    </tr>\n    <tr>\n      <th>217</th>\n      <td>AFG</td>\n      <td>1</td>\n    </tr>\n  </tbody>\n</table>\n</div>"
     },
     "execution_count": 13,
     "metadata": {},
     "output_type": "execute_result"
    }
   ],
   "source": [
    "UKR = cluster_map[cluster_map.data_index=='UKR'].cluster.iloc[0]\n",
    "cluster_map[cluster_map.cluster==UKR]"
   ],
   "metadata": {
    "collapsed": false,
    "pycharm": {
     "name": "#%%\n"
    }
   }
  },
  {
   "cell_type": "code",
   "execution_count": 14,
   "outputs": [
    {
     "data": {
      "text/plain": "    data_index  cluster\n1          TUR        6\n3          ZWE        6\n4          MWI        6\n7          MCO        6\n15         RUS        6\n17         BDI        6\n19         JPN        6\n21         NLD        6\n23         CAN        6\n26         ALB        6\n28         LBR        6\n30         AFR        6\n33         ISR        6\n39         PRK        6\n48         MMR        6\n56         MDA        6\n57         MHL        6\n62         FRA        6\n66         MOZ        6\n68         GAB        6\n76         COL        6\n77         CYP        6\n79         MEX        6\n82         SWZ        6\n83         PAK        6\n88         BWA        6\n90         AUS        6\n91         SAU        6\n93         VEN        6\n95         LBY        6\n96         BGR        6\n97         GTM        6\n98         CUB        6\n101        MYS        6\n110        IRL        6\n112        NIC        6\n114        NGA        6\n119        DEU        6\n121        PER        6\n133        CPV        6\n135        DMA        6\n136        HUN        6\n142        MLT        6\n148        HTI        6\n154        GBR        6\n155        AGO        6\n161        GUY        6\n162        CZE        6\n164        ZAF        6\n170        POL        6\n172        BOL        6\n174        SWE        6\n177        LTU        6\n180        CHL        6\n198        PAN        6\n205        AUT        6\n207        ARM        6\n208        JOR        6\n211        TTO        6\n212        UGA        6",
      "text/html": "<div>\n<style scoped>\n    .dataframe tbody tr th:only-of-type {\n        vertical-align: middle;\n    }\n\n    .dataframe tbody tr th {\n        vertical-align: top;\n    }\n\n    .dataframe thead th {\n        text-align: right;\n    }\n</style>\n<table border=\"1\" class=\"dataframe\">\n  <thead>\n    <tr style=\"text-align: right;\">\n      <th></th>\n      <th>data_index</th>\n      <th>cluster</th>\n    </tr>\n  </thead>\n  <tbody>\n    <tr>\n      <th>1</th>\n      <td>TUR</td>\n      <td>6</td>\n    </tr>\n    <tr>\n      <th>3</th>\n      <td>ZWE</td>\n      <td>6</td>\n    </tr>\n    <tr>\n      <th>4</th>\n      <td>MWI</td>\n      <td>6</td>\n    </tr>\n    <tr>\n      <th>7</th>\n      <td>MCO</td>\n      <td>6</td>\n    </tr>\n    <tr>\n      <th>15</th>\n      <td>RUS</td>\n      <td>6</td>\n    </tr>\n    <tr>\n      <th>17</th>\n      <td>BDI</td>\n      <td>6</td>\n    </tr>\n    <tr>\n      <th>19</th>\n      <td>JPN</td>\n      <td>6</td>\n    </tr>\n    <tr>\n      <th>21</th>\n      <td>NLD</td>\n      <td>6</td>\n    </tr>\n    <tr>\n      <th>23</th>\n      <td>CAN</td>\n      <td>6</td>\n    </tr>\n    <tr>\n      <th>26</th>\n      <td>ALB</td>\n      <td>6</td>\n    </tr>\n    <tr>\n      <th>28</th>\n      <td>LBR</td>\n      <td>6</td>\n    </tr>\n    <tr>\n      <th>30</th>\n      <td>AFR</td>\n      <td>6</td>\n    </tr>\n    <tr>\n      <th>33</th>\n      <td>ISR</td>\n      <td>6</td>\n    </tr>\n    <tr>\n      <th>39</th>\n      <td>PRK</td>\n      <td>6</td>\n    </tr>\n    <tr>\n      <th>48</th>\n      <td>MMR</td>\n      <td>6</td>\n    </tr>\n    <tr>\n      <th>56</th>\n      <td>MDA</td>\n      <td>6</td>\n    </tr>\n    <tr>\n      <th>57</th>\n      <td>MHL</td>\n      <td>6</td>\n    </tr>\n    <tr>\n      <th>62</th>\n      <td>FRA</td>\n      <td>6</td>\n    </tr>\n    <tr>\n      <th>66</th>\n      <td>MOZ</td>\n      <td>6</td>\n    </tr>\n    <tr>\n      <th>68</th>\n      <td>GAB</td>\n      <td>6</td>\n    </tr>\n    <tr>\n      <th>76</th>\n      <td>COL</td>\n      <td>6</td>\n    </tr>\n    <tr>\n      <th>77</th>\n      <td>CYP</td>\n      <td>6</td>\n    </tr>\n    <tr>\n      <th>79</th>\n      <td>MEX</td>\n      <td>6</td>\n    </tr>\n    <tr>\n      <th>82</th>\n      <td>SWZ</td>\n      <td>6</td>\n    </tr>\n    <tr>\n      <th>83</th>\n      <td>PAK</td>\n      <td>6</td>\n    </tr>\n    <tr>\n      <th>88</th>\n      <td>BWA</td>\n      <td>6</td>\n    </tr>\n    <tr>\n      <th>90</th>\n      <td>AUS</td>\n      <td>6</td>\n    </tr>\n    <tr>\n      <th>91</th>\n      <td>SAU</td>\n      <td>6</td>\n    </tr>\n    <tr>\n      <th>93</th>\n      <td>VEN</td>\n      <td>6</td>\n    </tr>\n    <tr>\n      <th>95</th>\n      <td>LBY</td>\n      <td>6</td>\n    </tr>\n    <tr>\n      <th>96</th>\n      <td>BGR</td>\n      <td>6</td>\n    </tr>\n    <tr>\n      <th>97</th>\n      <td>GTM</td>\n      <td>6</td>\n    </tr>\n    <tr>\n      <th>98</th>\n      <td>CUB</td>\n      <td>6</td>\n    </tr>\n    <tr>\n      <th>101</th>\n      <td>MYS</td>\n      <td>6</td>\n    </tr>\n    <tr>\n      <th>110</th>\n      <td>IRL</td>\n      <td>6</td>\n    </tr>\n    <tr>\n      <th>112</th>\n      <td>NIC</td>\n      <td>6</td>\n    </tr>\n    <tr>\n      <th>114</th>\n      <td>NGA</td>\n      <td>6</td>\n    </tr>\n    <tr>\n      <th>119</th>\n      <td>DEU</td>\n      <td>6</td>\n    </tr>\n    <tr>\n      <th>121</th>\n      <td>PER</td>\n      <td>6</td>\n    </tr>\n    <tr>\n      <th>133</th>\n      <td>CPV</td>\n      <td>6</td>\n    </tr>\n    <tr>\n      <th>135</th>\n      <td>DMA</td>\n      <td>6</td>\n    </tr>\n    <tr>\n      <th>136</th>\n      <td>HUN</td>\n      <td>6</td>\n    </tr>\n    <tr>\n      <th>142</th>\n      <td>MLT</td>\n      <td>6</td>\n    </tr>\n    <tr>\n      <th>148</th>\n      <td>HTI</td>\n      <td>6</td>\n    </tr>\n    <tr>\n      <th>154</th>\n      <td>GBR</td>\n      <td>6</td>\n    </tr>\n    <tr>\n      <th>155</th>\n      <td>AGO</td>\n      <td>6</td>\n    </tr>\n    <tr>\n      <th>161</th>\n      <td>GUY</td>\n      <td>6</td>\n    </tr>\n    <tr>\n      <th>162</th>\n      <td>CZE</td>\n      <td>6</td>\n    </tr>\n    <tr>\n      <th>164</th>\n      <td>ZAF</td>\n      <td>6</td>\n    </tr>\n    <tr>\n      <th>170</th>\n      <td>POL</td>\n      <td>6</td>\n    </tr>\n    <tr>\n      <th>172</th>\n      <td>BOL</td>\n      <td>6</td>\n    </tr>\n    <tr>\n      <th>174</th>\n      <td>SWE</td>\n      <td>6</td>\n    </tr>\n    <tr>\n      <th>177</th>\n      <td>LTU</td>\n      <td>6</td>\n    </tr>\n    <tr>\n      <th>180</th>\n      <td>CHL</td>\n      <td>6</td>\n    </tr>\n    <tr>\n      <th>198</th>\n      <td>PAN</td>\n      <td>6</td>\n    </tr>\n    <tr>\n      <th>205</th>\n      <td>AUT</td>\n      <td>6</td>\n    </tr>\n    <tr>\n      <th>207</th>\n      <td>ARM</td>\n      <td>6</td>\n    </tr>\n    <tr>\n      <th>208</th>\n      <td>JOR</td>\n      <td>6</td>\n    </tr>\n    <tr>\n      <th>211</th>\n      <td>TTO</td>\n      <td>6</td>\n    </tr>\n    <tr>\n      <th>212</th>\n      <td>UGA</td>\n      <td>6</td>\n    </tr>\n  </tbody>\n</table>\n</div>"
     },
     "execution_count": 14,
     "metadata": {},
     "output_type": "execute_result"
    }
   ],
   "source": [
    "GBR = cluster_map[cluster_map.data_index=='GBR'].cluster.iloc[0]\n",
    "cluster_map[cluster_map.cluster==GBR]"
   ],
   "metadata": {
    "collapsed": false,
    "pycharm": {
     "name": "#%%\n"
    }
   }
  },
  {
   "cell_type": "code",
   "execution_count": 15,
   "outputs": [
    {
     "data": {
      "text/plain": "    data_index  cluster\n6          PRY        0\n16         JAM        0\n22         HND        0\n34         VNM        0\n38         COG        0\n42         MNG        0\n45         SSD        0\n50         SHN        0\n51         SDN        0\n52         CHN        0\n67         BLZ        0\n71         IDN        0\n73         NPL        0\n75         DNK        0\n78         SGP        0\n84         KHM        0\n100        NZL        0\n102        AZE        0\n104        SLB        0\n107        LKA        0\n111        MRT        0\n118        NAM        0\n123        KWT        0\n159        THA        0\n175        WST        0\n178        RWA        0\n185        BHS        0\n196        PNG        0\n199        STP        0\n200        KGZ        0\n213        SEA        0",
      "text/html": "<div>\n<style scoped>\n    .dataframe tbody tr th:only-of-type {\n        vertical-align: middle;\n    }\n\n    .dataframe tbody tr th {\n        vertical-align: top;\n    }\n\n    .dataframe thead th {\n        text-align: right;\n    }\n</style>\n<table border=\"1\" class=\"dataframe\">\n  <thead>\n    <tr style=\"text-align: right;\">\n      <th></th>\n      <th>data_index</th>\n      <th>cluster</th>\n    </tr>\n  </thead>\n  <tbody>\n    <tr>\n      <th>6</th>\n      <td>PRY</td>\n      <td>0</td>\n    </tr>\n    <tr>\n      <th>16</th>\n      <td>JAM</td>\n      <td>0</td>\n    </tr>\n    <tr>\n      <th>22</th>\n      <td>HND</td>\n      <td>0</td>\n    </tr>\n    <tr>\n      <th>34</th>\n      <td>VNM</td>\n      <td>0</td>\n    </tr>\n    <tr>\n      <th>38</th>\n      <td>COG</td>\n      <td>0</td>\n    </tr>\n    <tr>\n      <th>42</th>\n      <td>MNG</td>\n      <td>0</td>\n    </tr>\n    <tr>\n      <th>45</th>\n      <td>SSD</td>\n      <td>0</td>\n    </tr>\n    <tr>\n      <th>50</th>\n      <td>SHN</td>\n      <td>0</td>\n    </tr>\n    <tr>\n      <th>51</th>\n      <td>SDN</td>\n      <td>0</td>\n    </tr>\n    <tr>\n      <th>52</th>\n      <td>CHN</td>\n      <td>0</td>\n    </tr>\n    <tr>\n      <th>67</th>\n      <td>BLZ</td>\n      <td>0</td>\n    </tr>\n    <tr>\n      <th>71</th>\n      <td>IDN</td>\n      <td>0</td>\n    </tr>\n    <tr>\n      <th>73</th>\n      <td>NPL</td>\n      <td>0</td>\n    </tr>\n    <tr>\n      <th>75</th>\n      <td>DNK</td>\n      <td>0</td>\n    </tr>\n    <tr>\n      <th>78</th>\n      <td>SGP</td>\n      <td>0</td>\n    </tr>\n    <tr>\n      <th>84</th>\n      <td>KHM</td>\n      <td>0</td>\n    </tr>\n    <tr>\n      <th>100</th>\n      <td>NZL</td>\n      <td>0</td>\n    </tr>\n    <tr>\n      <th>102</th>\n      <td>AZE</td>\n      <td>0</td>\n    </tr>\n    <tr>\n      <th>104</th>\n      <td>SLB</td>\n      <td>0</td>\n    </tr>\n    <tr>\n      <th>107</th>\n      <td>LKA</td>\n      <td>0</td>\n    </tr>\n    <tr>\n      <th>111</th>\n      <td>MRT</td>\n      <td>0</td>\n    </tr>\n    <tr>\n      <th>118</th>\n      <td>NAM</td>\n      <td>0</td>\n    </tr>\n    <tr>\n      <th>123</th>\n      <td>KWT</td>\n      <td>0</td>\n    </tr>\n    <tr>\n      <th>159</th>\n      <td>THA</td>\n      <td>0</td>\n    </tr>\n    <tr>\n      <th>175</th>\n      <td>WST</td>\n      <td>0</td>\n    </tr>\n    <tr>\n      <th>178</th>\n      <td>RWA</td>\n      <td>0</td>\n    </tr>\n    <tr>\n      <th>185</th>\n      <td>BHS</td>\n      <td>0</td>\n    </tr>\n    <tr>\n      <th>196</th>\n      <td>PNG</td>\n      <td>0</td>\n    </tr>\n    <tr>\n      <th>199</th>\n      <td>STP</td>\n      <td>0</td>\n    </tr>\n    <tr>\n      <th>200</th>\n      <td>KGZ</td>\n      <td>0</td>\n    </tr>\n    <tr>\n      <th>213</th>\n      <td>SEA</td>\n      <td>0</td>\n    </tr>\n  </tbody>\n</table>\n</div>"
     },
     "execution_count": 15,
     "metadata": {},
     "output_type": "execute_result"
    }
   ],
   "source": [
    "CHN = cluster_map[cluster_map.data_index=='CHN'].cluster.iloc[0]\n",
    "cluster_map[cluster_map.cluster==CHN]"
   ],
   "metadata": {
    "collapsed": false,
    "pycharm": {
     "name": "#%%\n"
    }
   }
  }
 ],
 "metadata": {
  "kernelspec": {
   "name": "geo_env",
   "language": "python",
   "display_name": "geo_env"
  },
  "language_info": {
   "codemirror_mode": {
    "name": "ipython",
    "version": 2
   },
   "file_extension": ".py",
   "mimetype": "text/x-python",
   "name": "python",
   "nbconvert_exporter": "python",
   "pygments_lexer": "ipython2",
   "version": "2.7.6"
  }
 },
 "nbformat": 4,
 "nbformat_minor": 0
}