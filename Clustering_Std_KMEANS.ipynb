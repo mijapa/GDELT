{
 "cells": [
  {
   "cell_type": "code",
   "execution_count": 136,
   "outputs": [],
   "source": [
    "import numpy as np\n",
    "import pandas as pd\n",
    "from datetime import datetime\n",
    "\n",
    "import seaborn as sns\n",
    "import matplotlib.pyplot as plt\n",
    "sns.set_style(\"whitegrid\")\n",
    "%matplotlib inline\n"
   ],
   "metadata": {
    "collapsed": false,
    "pycharm": {
     "name": "#%%\n"
    }
   }
  },
  {
   "cell_type": "code",
   "execution_count": 137,
   "outputs": [
    {
     "name": "stderr",
     "output_type": "stream",
     "text": [
      "<ipython-input-137-1fb1691e9a8e>:1: ParserWarning: Falling back to the 'python' engine because the 'c' engine does not support regex separators (separators > 1 char and different from '\\s+' are interpreted as regex); you can avoid this warning by specifying engine='python'.\n",
      "  globalAA = pd.read_csv('queries_results/clustering/A.csv', header = 0, sep=' *, *')\n"
     ]
    }
   ],
   "source": [
    "globalAA = pd.read_csv('queries_results/clustering/A.csv', header = 0, sep=' *, *')\n",
    "# globalA[\"Time\"]=pd.to_datetime(globalA['MonthYear'], format='%Y%m').dt.strftime('%Y-%m')\n",
    "# globalAA\n",
    "#\n",
    "globalA = globalAA[['Events','sumNumMentions','materialConfCoop','verbalConfCoop','avgAvgTone','avgGoldstein','fightCount','expressCount']]"
   ],
   "metadata": {
    "collapsed": false,
    "pycharm": {
     "name": "#%%\n"
    }
   }
  },
  {
   "cell_type": "code",
   "execution_count": 138,
   "outputs": [
    {
     "data": {
      "text/plain": "array([[ 7.03800000e+03,  3.46670000e+04,  7.01903950e-02, ...,\n         1.47698210e+00,  1.40000000e+02,  7.70000000e+01],\n       [ 6.28210000e+04,  3.07088000e+05,  1.21376610e-01, ...,\n         1.24050875e+00,  3.45000000e+03,  1.13400000e+03],\n       [ 5.31000000e+02,  2.71000000e+03,  4.33145009e-02, ...,\n         2.16610169e+00,  1.00000000e+01,  1.00000000e+01],\n       ...,\n       [ 8.19808000e+05,  3.47227000e+06,  1.57140452e-01, ...,\n         3.70861958e-01,  5.77160000e+04,  1.97880000e+04],\n       [ 1.88650000e+04,  9.09150000e+04,  2.24118738e-01, ...,\n        -3.64373178e-01,  2.95600000e+03,  2.58000000e+02],\n       [ 2.61000000e+02,  1.42000000e+03,  5.36398467e-02, ...,\n         2.74904215e+00,  2.00000000e+00,  4.00000000e+00]])"
     },
     "execution_count": 138,
     "metadata": {},
     "output_type": "execute_result"
    }
   ],
   "source": [
    "points = globalA\n",
    "points = points.to_numpy()\n",
    "points"
   ],
   "metadata": {
    "collapsed": false,
    "pycharm": {
     "name": "#%%\n"
    }
   }
  },
  {
   "cell_type": "markdown",
   "source": [
    "### Data standardisation with [StandardScaler](http://scikit-learn.org/stable/modules/generated/sklearn.preprocessing.StandardScaler.html)"
   ],
   "metadata": {
    "collapsed": false
   }
  },
  {
   "cell_type": "code",
   "execution_count": 139,
   "outputs": [],
   "source": [
    "##jeśli dane są w jakiś sposób skorelowane to znaczy, że występuje redundancja danych, te dane nic nowego nie wnoszą\n",
    "##są niepotrzebne\n",
    "\n",
    "## if necessary to scale data\n",
    "from sklearn.preprocessing import StandardScaler\n",
    "scaler = StandardScaler()\n",
    "scaled_points = scaler.fit_transform(points)"
   ],
   "metadata": {
    "collapsed": false,
    "pycharm": {
     "name": "#%%\n"
    }
   }
  },
  {
   "cell_type": "markdown",
   "source": [
    "## Find clusters using [kMeans()](https://scikit-learn.org/stable/modules/generated/sklearn.cluster.KMeans.html)"
   ],
   "metadata": {
    "collapsed": false
   }
  },
  {
   "cell_type": "code",
   "execution_count": 151,
   "outputs": [],
   "source": [
    "#klasa KMeans z sklearn, konstruktor przyjmuje liczbę klastrów i sposób inicjalizacji centroidów, random_state=1 za\n",
    "#każdym razem te same punkty startowe\n",
    "from sklearn.cluster import KMeans\n",
    "kmeans = KMeans(n_clusters=20, init='random', random_state=1)\n",
    "km = kmeans.fit(scaled_points)"
   ],
   "metadata": {
    "collapsed": false,
    "pycharm": {
     "name": "#%%\n"
    }
   }
  },
  {
   "cell_type": "code",
   "execution_count": 141,
   "outputs": [
    {
     "data": {
      "text/plain": "array([19, 31, 20, 30, 11,  7, 33, 17, 33, 41, 10, 20, 49, 24, 24, 23, 21,\n       32, 44, 12, 40, 15, 45, 38, 44, 19, 12, 35,  2, 44, 49, 29,  1, 32,\n       48, 10, 34, 46, 45, 40,  7,  6, 27,  1, 48, 13,  5,  0, 12, 39, 27,\n       31, 38, 47, 36, 22, 43, 12,  1, 10,  8, 46, 12, 28,  6, 14, 30, 21,\n       18, 39, 42, 13,  7, 13, 44, 49, 30, 31,  7, 13, 41,  3, 40, 32, 13,\n       46,  3,  1,  5, 41, 23, 30, 33, 11,  7, 31, 12, 31, 18, 42, 49, 12,\n       21,  7, 14, 46, 41,  7,  1, 11,  2, 45, 30, 46, 32, 37, 46, 44, 45,\n       38, 46, 40, 40, 13, 39, 16, 47,  6, 41, 22, 44, 41, 42,  5, 35,  2,\n       15,  8,  9, 10, 39, 39, 30, 35, 10,  6, 20,  1, 11, 19, 40, 39, 29,\n        0, 38, 18,  5,  5, 41, 45, 47, 15, 18, 25, 40, 33,  4, 19, 49, 39,\n       11, 41, 11,  1, 11, 45, 39, 12, 13, 10, 11,  1, 39, 44, 25, 13, 33,\n       35, 28, 36, 37, 41, 24, 44, 10, 19, 14, 19, 12, 48,  7, 33, 39, 10,\n       32, 22, 29, 15, 11, 39, 20, 17, 30, 48, 41,  9, 26, 29, 44],\n      dtype=int32)"
     },
     "execution_count": 141,
     "metadata": {},
     "output_type": "execute_result"
    }
   ],
   "source": [
    "#funkcja predict zwaraca etykiety klastru do jakiego został przypisany obiekt\n",
    "clusters_id = kmeans.predict(scaled_points)\n",
    "clusters_id"
   ],
   "metadata": {
    "collapsed": false,
    "pycharm": {
     "name": "#%%\n"
    }
   }
  },
  {
   "cell_type": "code",
   "execution_count": 142,
   "outputs": [],
   "source": [
    "cluster_map = pd.DataFrame()\n",
    "cluster_map['data_index'] = globalAA['Actor1CountryCode']\n",
    "cluster_map['cluster'] = km.labels_"
   ],
   "metadata": {
    "collapsed": false,
    "pycharm": {
     "name": "#%%\n"
    }
   }
  },
  {
   "cell_type": "code",
   "execution_count": 143,
   "outputs": [
    {
     "data": {
      "text/plain": "    data_index  cluster\n4          MWI       11\n93         VEN       11\n109        GMB       11\n148        HTI       11\n170        POL       11\n172        BOL       11\n174        SWE       11\n180        CHL       11\n208        JOR       11",
      "text/html": "<div>\n<style scoped>\n    .dataframe tbody tr th:only-of-type {\n        vertical-align: middle;\n    }\n\n    .dataframe tbody tr th {\n        vertical-align: top;\n    }\n\n    .dataframe thead th {\n        text-align: right;\n    }\n</style>\n<table border=\"1\" class=\"dataframe\">\n  <thead>\n    <tr style=\"text-align: right;\">\n      <th></th>\n      <th>data_index</th>\n      <th>cluster</th>\n    </tr>\n  </thead>\n  <tbody>\n    <tr>\n      <th>4</th>\n      <td>MWI</td>\n      <td>11</td>\n    </tr>\n    <tr>\n      <th>93</th>\n      <td>VEN</td>\n      <td>11</td>\n    </tr>\n    <tr>\n      <th>109</th>\n      <td>GMB</td>\n      <td>11</td>\n    </tr>\n    <tr>\n      <th>148</th>\n      <td>HTI</td>\n      <td>11</td>\n    </tr>\n    <tr>\n      <th>170</th>\n      <td>POL</td>\n      <td>11</td>\n    </tr>\n    <tr>\n      <th>172</th>\n      <td>BOL</td>\n      <td>11</td>\n    </tr>\n    <tr>\n      <th>174</th>\n      <td>SWE</td>\n      <td>11</td>\n    </tr>\n    <tr>\n      <th>180</th>\n      <td>CHL</td>\n      <td>11</td>\n    </tr>\n    <tr>\n      <th>208</th>\n      <td>JOR</td>\n      <td>11</td>\n    </tr>\n  </tbody>\n</table>\n</div>"
     },
     "execution_count": 143,
     "metadata": {},
     "output_type": "execute_result"
    }
   ],
   "source": [
    "POL = cluster_map[cluster_map.data_index=='POL'].cluster.iloc[0]\n",
    "cluster_map[cluster_map.cluster==POL]"
   ],
   "metadata": {
    "collapsed": false,
    "pycharm": {
     "name": "#%%\n"
    }
   }
  },
  {
   "cell_type": "code",
   "execution_count": 144,
   "outputs": [
    {
     "data": {
      "text/plain": "    data_index  cluster\n216        USA       26",
      "text/html": "<div>\n<style scoped>\n    .dataframe tbody tr th:only-of-type {\n        vertical-align: middle;\n    }\n\n    .dataframe tbody tr th {\n        vertical-align: top;\n    }\n\n    .dataframe thead th {\n        text-align: right;\n    }\n</style>\n<table border=\"1\" class=\"dataframe\">\n  <thead>\n    <tr style=\"text-align: right;\">\n      <th></th>\n      <th>data_index</th>\n      <th>cluster</th>\n    </tr>\n  </thead>\n  <tbody>\n    <tr>\n      <th>216</th>\n      <td>USA</td>\n      <td>26</td>\n    </tr>\n  </tbody>\n</table>\n</div>"
     },
     "execution_count": 144,
     "metadata": {},
     "output_type": "execute_result"
    }
   ],
   "source": [
    "USA = cluster_map[cluster_map.data_index=='USA'].cluster.iloc[0]\n",
    "cluster_map[cluster_map.cluster==USA]"
   ],
   "metadata": {
    "collapsed": false,
    "pycharm": {
     "name": "#%%\n"
    }
   }
  },
  {
   "cell_type": "code",
   "execution_count": 150,
   "outputs": [
    {
     "data": {
      "text/plain": "    data_index  cluster\n23         CAN       38\n52         CHN       38\n119        DEU       38\n154        GBR       38",
      "text/html": "<div>\n<style scoped>\n    .dataframe tbody tr th:only-of-type {\n        vertical-align: middle;\n    }\n\n    .dataframe tbody tr th {\n        vertical-align: top;\n    }\n\n    .dataframe thead th {\n        text-align: right;\n    }\n</style>\n<table border=\"1\" class=\"dataframe\">\n  <thead>\n    <tr style=\"text-align: right;\">\n      <th></th>\n      <th>data_index</th>\n      <th>cluster</th>\n    </tr>\n  </thead>\n  <tbody>\n    <tr>\n      <th>23</th>\n      <td>CAN</td>\n      <td>38</td>\n    </tr>\n    <tr>\n      <th>52</th>\n      <td>CHN</td>\n      <td>38</td>\n    </tr>\n    <tr>\n      <th>119</th>\n      <td>DEU</td>\n      <td>38</td>\n    </tr>\n    <tr>\n      <th>154</th>\n      <td>GBR</td>\n      <td>38</td>\n    </tr>\n  </tbody>\n</table>\n</div>"
     },
     "execution_count": 150,
     "metadata": {},
     "output_type": "execute_result"
    }
   ],
   "source": [
    "DEU = cluster_map[cluster_map.data_index=='DEU'].cluster.iloc[0]\n",
    "cluster_map[cluster_map.cluster==DEU]"
   ],
   "metadata": {
    "collapsed": false,
    "pycharm": {
     "name": "#%%\n"
    }
   }
  },
  {
   "cell_type": "code",
   "execution_count": 146,
   "outputs": [
    {
     "data": {
      "text/plain": "   data_index  cluster\n15        RUS       23\n90        AUS       23",
      "text/html": "<div>\n<style scoped>\n    .dataframe tbody tr th:only-of-type {\n        vertical-align: middle;\n    }\n\n    .dataframe tbody tr th {\n        vertical-align: top;\n    }\n\n    .dataframe thead th {\n        text-align: right;\n    }\n</style>\n<table border=\"1\" class=\"dataframe\">\n  <thead>\n    <tr style=\"text-align: right;\">\n      <th></th>\n      <th>data_index</th>\n      <th>cluster</th>\n    </tr>\n  </thead>\n  <tbody>\n    <tr>\n      <th>15</th>\n      <td>RUS</td>\n      <td>23</td>\n    </tr>\n    <tr>\n      <th>90</th>\n      <td>AUS</td>\n      <td>23</td>\n    </tr>\n  </tbody>\n</table>\n</div>"
     },
     "execution_count": 146,
     "metadata": {},
     "output_type": "execute_result"
    }
   ],
   "source": [
    "RUS = cluster_map[cluster_map.data_index=='RUS'].cluster.iloc[0]\n",
    "cluster_map[cluster_map.cluster==RUS]"
   ],
   "metadata": {
    "collapsed": false,
    "pycharm": {
     "name": "#%%\n"
    }
   }
  },
  {
   "cell_type": "code",
   "execution_count": 147,
   "outputs": [
    {
     "data": {
      "text/plain": "    data_index  cluster\n17         BDI       32\n33         ISR       32\n83         PAK       32\n114        NGA       32\n204        UKR       32",
      "text/html": "<div>\n<style scoped>\n    .dataframe tbody tr th:only-of-type {\n        vertical-align: middle;\n    }\n\n    .dataframe tbody tr th {\n        vertical-align: top;\n    }\n\n    .dataframe thead th {\n        text-align: right;\n    }\n</style>\n<table border=\"1\" class=\"dataframe\">\n  <thead>\n    <tr style=\"text-align: right;\">\n      <th></th>\n      <th>data_index</th>\n      <th>cluster</th>\n    </tr>\n  </thead>\n  <tbody>\n    <tr>\n      <th>17</th>\n      <td>BDI</td>\n      <td>32</td>\n    </tr>\n    <tr>\n      <th>33</th>\n      <td>ISR</td>\n      <td>32</td>\n    </tr>\n    <tr>\n      <th>83</th>\n      <td>PAK</td>\n      <td>32</td>\n    </tr>\n    <tr>\n      <th>114</th>\n      <td>NGA</td>\n      <td>32</td>\n    </tr>\n    <tr>\n      <th>204</th>\n      <td>UKR</td>\n      <td>32</td>\n    </tr>\n  </tbody>\n</table>\n</div>"
     },
     "execution_count": 147,
     "metadata": {},
     "output_type": "execute_result"
    }
   ],
   "source": [
    "UKR = cluster_map[cluster_map.data_index=='UKR'].cluster.iloc[0]\n",
    "cluster_map[cluster_map.cluster==UKR]"
   ],
   "metadata": {
    "collapsed": false,
    "pycharm": {
     "name": "#%%\n"
    }
   }
  },
  {
   "cell_type": "code",
   "execution_count": 148,
   "outputs": [
    {
     "data": {
      "text/plain": "    data_index  cluster\n23         CAN       38\n52         CHN       38\n119        DEU       38\n154        GBR       38",
      "text/html": "<div>\n<style scoped>\n    .dataframe tbody tr th:only-of-type {\n        vertical-align: middle;\n    }\n\n    .dataframe tbody tr th {\n        vertical-align: top;\n    }\n\n    .dataframe thead th {\n        text-align: right;\n    }\n</style>\n<table border=\"1\" class=\"dataframe\">\n  <thead>\n    <tr style=\"text-align: right;\">\n      <th></th>\n      <th>data_index</th>\n      <th>cluster</th>\n    </tr>\n  </thead>\n  <tbody>\n    <tr>\n      <th>23</th>\n      <td>CAN</td>\n      <td>38</td>\n    </tr>\n    <tr>\n      <th>52</th>\n      <td>CHN</td>\n      <td>38</td>\n    </tr>\n    <tr>\n      <th>119</th>\n      <td>DEU</td>\n      <td>38</td>\n    </tr>\n    <tr>\n      <th>154</th>\n      <td>GBR</td>\n      <td>38</td>\n    </tr>\n  </tbody>\n</table>\n</div>"
     },
     "execution_count": 148,
     "metadata": {},
     "output_type": "execute_result"
    }
   ],
   "source": [
    "GBR = cluster_map[cluster_map.data_index=='GBR'].cluster.iloc[0]\n",
    "cluster_map[cluster_map.cluster==GBR]"
   ],
   "metadata": {
    "collapsed": false,
    "pycharm": {
     "name": "#%%\n"
    }
   }
  },
  {
   "cell_type": "code",
   "execution_count": 149,
   "outputs": [
    {
     "data": {
      "text/plain": "    data_index  cluster\n23         CAN       38\n52         CHN       38\n119        DEU       38\n154        GBR       38",
      "text/html": "<div>\n<style scoped>\n    .dataframe tbody tr th:only-of-type {\n        vertical-align: middle;\n    }\n\n    .dataframe tbody tr th {\n        vertical-align: top;\n    }\n\n    .dataframe thead th {\n        text-align: right;\n    }\n</style>\n<table border=\"1\" class=\"dataframe\">\n  <thead>\n    <tr style=\"text-align: right;\">\n      <th></th>\n      <th>data_index</th>\n      <th>cluster</th>\n    </tr>\n  </thead>\n  <tbody>\n    <tr>\n      <th>23</th>\n      <td>CAN</td>\n      <td>38</td>\n    </tr>\n    <tr>\n      <th>52</th>\n      <td>CHN</td>\n      <td>38</td>\n    </tr>\n    <tr>\n      <th>119</th>\n      <td>DEU</td>\n      <td>38</td>\n    </tr>\n    <tr>\n      <th>154</th>\n      <td>GBR</td>\n      <td>38</td>\n    </tr>\n  </tbody>\n</table>\n</div>"
     },
     "execution_count": 149,
     "metadata": {},
     "output_type": "execute_result"
    }
   ],
   "source": [
    "CHN = cluster_map[cluster_map.data_index=='CHN'].cluster.iloc[0]\n",
    "cluster_map[cluster_map.cluster==CHN]"
   ],
   "metadata": {
    "collapsed": false,
    "pycharm": {
     "name": "#%%\n"
    }
   }
  }
 ],
 "metadata": {
  "kernelspec": {
   "name": "scikit_v0.22",
   "language": "python",
   "display_name": "scikit_v0.22"
  },
  "language_info": {
   "codemirror_mode": {
    "name": "ipython",
    "version": 2
   },
   "file_extension": ".py",
   "mimetype": "text/x-python",
   "name": "python",
   "nbconvert_exporter": "python",
   "pygments_lexer": "ipython2",
   "version": "2.7.6"
  }
 },
 "nbformat": 4,
 "nbformat_minor": 0
}